{
 "nbformat": 4,
 "nbformat_minor": 2,
 "metadata": {
  "language_info": {
   "name": "python",
   "codemirror_mode": {
    "name": "ipython",
    "version": 3
   },
   "version": "3.7.4-final"
  },
  "orig_nbformat": 2,
  "file_extension": ".py",
  "mimetype": "text/x-python",
  "name": "python",
  "npconvert_exporter": "python",
  "pygments_lexer": "ipython3",
  "version": 3,
  "kernelspec": {
   "name": "python36964bitbaseconda1682f8aab098458db6e9bf1e6e5a7b4e",
   "display_name": "Python 3.6.9 64-bit ('base': conda)"
  }
 },
 "cells": [
  {
   "cell_type": "markdown",
   "metadata": {},
   "source": [
    "# NEM Open Data Extraction Tool\n",
    "\n",
    "**The Objective**: to create a tool that can easily extract open data from nemweb.com.au and assemble it into an analysis-ready format.\n",
    "\n",
    "* For the intitial testing phase, extracted data will be stored as CSV files\n",
    "* Once the data extraction pipeline is set up, we can experiment with SQL databases"
   ]
  },
  {
   "cell_type": "code",
   "execution_count": 1,
   "metadata": {},
   "outputs": [
    {
     "output_type": "stream",
     "name": "stdout",
     "text": "Value for DATA_PATH has been set!\n"
    }
   ],
   "source": [
    "%load_ext autoreload\n",
    "%autoreload 2\n",
    "\n",
    "# Standard Python\n",
    "import os\n",
    "import pandas as pd\n",
    "\n",
    "# My modules\n",
    "from nem_tracker import NEM_tracker\n",
    "from nem_extract import NEM_extractor\n",
    "from nem_loader import NEM_loader\n",
    "\n",
    "# Configuration\n",
    "import config\n",
    "config.use('config.json')"
   ]
  },
  {
   "cell_type": "markdown",
   "metadata": {},
   "source": [
    "### NEM Tracker\n",
    "\n",
    "* `.bulk_update()` method will update all existing resources\n",
    "* to add a new resource use `.update_resource(resource, new=True)`\n",
    "* tracking CSVs in `.tracker_dir` keep track of resource URLs "
   ]
  },
  {
   "cell_type": "code",
   "execution_count": 2,
   "metadata": {},
   "outputs": [
    {
     "output_type": "stream",
     "name": "stdout",
     "text": "/Reports/Current/Operational_Demand/ACTUAL_DAILY/ 2020-04-12-12:55:10\n/Reports/Current/Dispatch_SCADA/ 2020-04-12-12:55:10\n"
    }
   ],
   "source": [
    "data_dir = os.getenv('DATA_PATH')\n",
    "nem_trk = NEM_tracker(data_dir)\n",
    "for k, v in nem_trk.resources.items():\n",
    "    print(k, v['last_update'])"
   ]
  },
  {
   "cell_type": "code",
   "execution_count": 3,
   "metadata": {},
   "outputs": [],
   "source": [
    "resources_new = ['/Reports/Current/Next_Day_Intermittent_DS/']\n",
    "nem_trk.add_resources(resources_new)\n",
    "#nem_trk.bulk_update()"
   ]
  },
  {
   "cell_type": "markdown",
   "metadata": {},
   "source": [
    "### NEM Extractor"
   ]
  },
  {
   "cell_type": "code",
   "execution_count": 4,
   "metadata": {},
   "outputs": [
    {
     "output_type": "stream",
     "name": "stdout",
     "text": "[0] /Reports/Current/Operational_Demand/ACTUAL_DAILY/\n[1] /Reports/Current/Dispatch_SCADA/\n[2] /Reports/Current/Next_Day_Intermittent_DS/\n\nSelected: /Reports/Current/Next_Day_Intermittent_DS/\n"
    }
   ],
   "source": [
    "nem_get = NEM_extractor(data_dir)\n",
    "nem_get.select_resource()"
   ]
  },
  {
   "cell_type": "code",
   "execution_count": 5,
   "metadata": {},
   "outputs": [
    {
     "output_type": "stream",
     "name": "stdout",
     "text": "<class 'pandas.core.frame.DataFrame'>\nRangeIndex: 60 entries, 0 to 59\nData columns (total 5 columns):\nTIMESTAMP        60 non-null datetime64[ns]\nVERSION          60 non-null object\nDOWNLOADED       60 non-null bool\nDOWNLOAD_DATE    60 non-null datetime64[ns]\nURL              60 non-null object\ndtypes: bool(1), datetime64[ns](2), object(2)\nmemory usage: 2.1+ KB\n"
    }
   ],
   "source": [
    "nem_get.load_tracker_df()\n",
    "nem_get.current_tracker_df.info()"
   ]
  },
  {
   "cell_type": "code",
   "execution_count": 6,
   "metadata": {},
   "outputs": [
    {
     "output_type": "execute_result",
     "data": {
      "text/plain": "    TIMESTAMP            VERSION  DOWNLOADED DOWNLOAD_DATE  \\\n55 2020-04-07  V0000000321370873       False    1900-01-01   \n56 2020-04-08  V0000000321415237       False    1900-01-01   \n57 2020-04-09  V0000000321457595       False    1900-01-01   \n58 2020-04-10  V0000000321498882       False    1900-01-01   \n59 2020-04-11  V0000000321540365       False    1900-01-01   \n\n                                                  URL  \n55  http://nemweb.com.au/Reports/Current/Next_Day_...  \n56  http://nemweb.com.au/Reports/Current/Next_Day_...  \n57  http://nemweb.com.au/Reports/Current/Next_Day_...  \n58  http://nemweb.com.au/Reports/Current/Next_Day_...  \n59  http://nemweb.com.au/Reports/Current/Next_Day_...  ",
      "text/html": "<div>\n<style scoped>\n    .dataframe tbody tr th:only-of-type {\n        vertical-align: middle;\n    }\n\n    .dataframe tbody tr th {\n        vertical-align: top;\n    }\n\n    .dataframe thead th {\n        text-align: right;\n    }\n</style>\n<table border=\"1\" class=\"dataframe\">\n  <thead>\n    <tr style=\"text-align: right;\">\n      <th></th>\n      <th>TIMESTAMP</th>\n      <th>VERSION</th>\n      <th>DOWNLOADED</th>\n      <th>DOWNLOAD_DATE</th>\n      <th>URL</th>\n    </tr>\n  </thead>\n  <tbody>\n    <tr>\n      <td>55</td>\n      <td>2020-04-07</td>\n      <td>V0000000321370873</td>\n      <td>False</td>\n      <td>1900-01-01</td>\n      <td>http://nemweb.com.au/Reports/Current/Next_Day_...</td>\n    </tr>\n    <tr>\n      <td>56</td>\n      <td>2020-04-08</td>\n      <td>V0000000321415237</td>\n      <td>False</td>\n      <td>1900-01-01</td>\n      <td>http://nemweb.com.au/Reports/Current/Next_Day_...</td>\n    </tr>\n    <tr>\n      <td>57</td>\n      <td>2020-04-09</td>\n      <td>V0000000321457595</td>\n      <td>False</td>\n      <td>1900-01-01</td>\n      <td>http://nemweb.com.au/Reports/Current/Next_Day_...</td>\n    </tr>\n    <tr>\n      <td>58</td>\n      <td>2020-04-10</td>\n      <td>V0000000321498882</td>\n      <td>False</td>\n      <td>1900-01-01</td>\n      <td>http://nemweb.com.au/Reports/Current/Next_Day_...</td>\n    </tr>\n    <tr>\n      <td>59</td>\n      <td>2020-04-11</td>\n      <td>V0000000321540365</td>\n      <td>False</td>\n      <td>1900-01-01</td>\n      <td>http://nemweb.com.au/Reports/Current/Next_Day_...</td>\n    </tr>\n  </tbody>\n</table>\n</div>"
     },
     "metadata": {},
     "execution_count": 6
    }
   ],
   "source": [
    "nem_get.set_download_df(5)\n",
    "nem_get.download_df"
   ]
  },
  {
   "cell_type": "code",
   "execution_count": 7,
   "metadata": {},
   "outputs": [
    {
     "output_type": "execute_result",
     "data": {
      "text/plain": "    TIMESTAMP            VERSION  DOWNLOADED       DOWNLOAD_DATE  \\\n53 2020-04-05  V0000000321287023       False 1900-01-01 00:00:00   \n54 2020-04-06  V0000000321329144       False 1900-01-01 00:00:00   \n55 2020-04-07  V0000000321370873        True 2020-04-12 13:32:16   \n56 2020-04-08  V0000000321415237        True 2020-04-12 13:32:27   \n57 2020-04-09  V0000000321457595        True 2020-04-12 13:32:32   \n58 2020-04-10  V0000000321498882        True 2020-04-12 13:32:51   \n59 2020-04-11  V0000000321540365        True 2020-04-12 13:33:06   \n\n                                                  URL  \n53  http://nemweb.com.au/Reports/Current/Next_Day_...  \n54  http://nemweb.com.au/Reports/Current/Next_Day_...  \n55  http://nemweb.com.au/Reports/Current/Next_Day_...  \n56  http://nemweb.com.au/Reports/Current/Next_Day_...  \n57  http://nemweb.com.au/Reports/Current/Next_Day_...  \n58  http://nemweb.com.au/Reports/Current/Next_Day_...  \n59  http://nemweb.com.au/Reports/Current/Next_Day_...  ",
      "text/html": "<div>\n<style scoped>\n    .dataframe tbody tr th:only-of-type {\n        vertical-align: middle;\n    }\n\n    .dataframe tbody tr th {\n        vertical-align: top;\n    }\n\n    .dataframe thead th {\n        text-align: right;\n    }\n</style>\n<table border=\"1\" class=\"dataframe\">\n  <thead>\n    <tr style=\"text-align: right;\">\n      <th></th>\n      <th>TIMESTAMP</th>\n      <th>VERSION</th>\n      <th>DOWNLOADED</th>\n      <th>DOWNLOAD_DATE</th>\n      <th>URL</th>\n    </tr>\n  </thead>\n  <tbody>\n    <tr>\n      <td>53</td>\n      <td>2020-04-05</td>\n      <td>V0000000321287023</td>\n      <td>False</td>\n      <td>1900-01-01 00:00:00</td>\n      <td>http://nemweb.com.au/Reports/Current/Next_Day_...</td>\n    </tr>\n    <tr>\n      <td>54</td>\n      <td>2020-04-06</td>\n      <td>V0000000321329144</td>\n      <td>False</td>\n      <td>1900-01-01 00:00:00</td>\n      <td>http://nemweb.com.au/Reports/Current/Next_Day_...</td>\n    </tr>\n    <tr>\n      <td>55</td>\n      <td>2020-04-07</td>\n      <td>V0000000321370873</td>\n      <td>True</td>\n      <td>2020-04-12 13:32:16</td>\n      <td>http://nemweb.com.au/Reports/Current/Next_Day_...</td>\n    </tr>\n    <tr>\n      <td>56</td>\n      <td>2020-04-08</td>\n      <td>V0000000321415237</td>\n      <td>True</td>\n      <td>2020-04-12 13:32:27</td>\n      <td>http://nemweb.com.au/Reports/Current/Next_Day_...</td>\n    </tr>\n    <tr>\n      <td>57</td>\n      <td>2020-04-09</td>\n      <td>V0000000321457595</td>\n      <td>True</td>\n      <td>2020-04-12 13:32:32</td>\n      <td>http://nemweb.com.au/Reports/Current/Next_Day_...</td>\n    </tr>\n    <tr>\n      <td>58</td>\n      <td>2020-04-10</td>\n      <td>V0000000321498882</td>\n      <td>True</td>\n      <td>2020-04-12 13:32:51</td>\n      <td>http://nemweb.com.au/Reports/Current/Next_Day_...</td>\n    </tr>\n    <tr>\n      <td>59</td>\n      <td>2020-04-11</td>\n      <td>V0000000321540365</td>\n      <td>True</td>\n      <td>2020-04-12 13:33:06</td>\n      <td>http://nemweb.com.au/Reports/Current/Next_Day_...</td>\n    </tr>\n  </tbody>\n</table>\n</div>"
     },
     "metadata": {},
     "execution_count": 7
    }
   ],
   "source": [
    "nem_get.download_files()\n",
    "nem_get.current_tracker_df.tail(7)"
   ]
  },
  {
   "cell_type": "markdown",
   "metadata": {},
   "source": [
    "### Setting up the NEM Loader\n",
    "\n",
    "* The tracker files should be useful as metadata for what's in the resource folders\n",
    "  * Basically, if `DOWNLOADED==True`, the files should be found in the relevant resource folders\n",
    "    * However, we may want to have file names tracked, or just use the last part of the `URL` field, which ideally would correspond to the file names\n",
    "\n",
    "* Parsing the downloaded data files:\n",
    "  * The `C` code appears to be used to signal the start/end of data files\n",
    "  * `I` seems to be column names\n",
    "  * `D` are the data rows"
   ]
  },
  {
   "cell_type": "code",
   "execution_count": 21,
   "metadata": {},
   "outputs": [
    {
     "output_type": "stream",
     "name": "stdout",
     "text": "[0] /Reports/Current/Operational_Demand/ACTUAL_DAILY/\n[1] /Reports/Current/Dispatch_SCADA/\n[2] /Reports/Current/Next_Day_Intermittent_DS/\n\nSelected: /Reports/Current/Next_Day_Intermittent_DS/\n"
    }
   ],
   "source": [
    "nem_load = NEM_loader(data_dir)\n",
    "nem_load.get_available_files()"
   ]
  },
  {
   "cell_type": "code",
   "execution_count": 23,
   "metadata": {},
   "outputs": [
    {
     "output_type": "execute_result",
     "data": {
      "text/plain": "['PUBLIC_NEXT_DAY_INTERMITTENT_DS_20200411_0000000321540365.CSV']"
     },
     "metadata": {},
     "execution_count": 23
    }
   ],
   "source": [
    "nem_load.set_read_list()\n",
    "nem_load.files_to_read"
   ]
  },
  {
   "cell_type": "code",
   "execution_count": 24,
   "metadata": {},
   "outputs": [
    {
     "output_type": "execute_result",
     "data": {
      "text/plain": "dict_keys(['PUBLIC_NEXT_DAY_INTERMITTENT_DS_20200411_0000000321540365.CSV'])"
     },
     "metadata": {},
     "execution_count": 24
    }
   ],
   "source": [
    "test = nem_load.process_read_list()\n",
    "test.keys()"
   ]
  },
  {
   "cell_type": "code",
   "execution_count": 25,
   "metadata": {},
   "outputs": [
    {
     "output_type": "stream",
     "name": "stdout",
     "text": "<class 'pandas.core.frame.DataFrame'>\nRangeIndex: 263066 entries, 0 to 263065\nData columns (total 13 columns):\nDEMAND                    263066 non-null object\nINTERMITTENT_DS_RUN       263066 non-null object\n1                         263066 non-null int64\nRUN_DATETIME              263066 non-null object\nDUID                      263066 non-null object\nORIGIN                    263066 non-null object\nFORECAST_PRIORITY         263066 non-null int64\nOFFERDATETIME             263066 non-null object\nPARTICIPANT_TIMESTAMP     242078 non-null object\nSUPPRESSED_PARTICIPANT    261338 non-null float64\nSUPPRESSED_AEMO           261338 non-null float64\nTRANSACTION_ID            214106 non-null object\nLASTCHANGED               263066 non-null object\ndtypes: float64(2), int64(2), object(9)\nmemory usage: 26.1+ MB\n"
    }
   ],
   "source": [
    "k = list(test.keys())[0]\n",
    "test[k][0].info()"
   ]
  },
  {
   "cell_type": "code",
   "execution_count": 29,
   "metadata": {},
   "outputs": [
    {
     "output_type": "execute_result",
     "data": {
      "text/plain": "        DEMAND  INTERMITTENT_DS_PRED  1         RUN_DATETIME      DUID  \\\n40693   DEMAND  INTERMITTENT_DS_PRED  1  2020/04/11 08:55:00      KSP1   \n172953  DEMAND  INTERMITTENT_DS_PRED  1  2020/04/11 08:50:00      KSP1   \n12296   DEMAND  INTERMITTENT_DS_PRED  1  2020/04/11 13:10:00  CROWLWF1   \n194451  DEMAND  INTERMITTENT_DS_PRED  1  2020/04/11 07:25:00   LILYSF1   \n211388  DEMAND  INTERMITTENT_DS_PRED  1  2020/04/11 08:50:00  HAUGHT11   \n96475   DEMAND  INTERMITTENT_DS_PRED  1  2020/04/11 11:05:00      KSP1   \n172062  DEMAND  INTERMITTENT_DS_PRED  1  2020/04/12 02:30:00  TARALGA1   \n\n          ORIGIN  FORECAST_PRIORITY        OFFERDATETIME    INTERVAL_DATETIME  \\\n40693    KIDSTON                  3  2020/04/11 08:46:25  2020/04/11 08:55:00   \n172953   KIDSTON                 98  2020/04/11 08:42:27  2020/04/11 08:50:00   \n12296   CROWLDWF                  1  2020/04/11 13:00:08  2020/04/11 13:10:00   \n194451   EEQLILY                  1  2020/04/11 07:17:14  2020/04/11 07:25:00   \n211388  HAUGHTSF                 98  2020/04/11 08:42:56  2020/04/11 08:50:00   \n96475    KIDSTON                101  2020/04/11 10:58:08  2020/04/11 11:05:00   \n172062   TARALGA                  2  2020/04/12 02:21:22  2020/04/12 02:30:00   \n\n        FORECAST_MEAN  FORECAST_POE10  FORECAST_POE50  FORECAST_POE90  \n40693             NaN             NaN          0.0000             NaN  \n172953            NaN             NaN          0.0000             NaN  \n12296             NaN             NaN          0.0000             NaN  \n194451            NaN             NaN         48.1860             NaN  \n211388            NaN             NaN          0.0000             NaN  \n96475             NaN             NaN         45.7974             NaN  \n172062            NaN             NaN          0.0000             NaN  ",
      "text/html": "<div>\n<style scoped>\n    .dataframe tbody tr th:only-of-type {\n        vertical-align: middle;\n    }\n\n    .dataframe tbody tr th {\n        vertical-align: top;\n    }\n\n    .dataframe thead th {\n        text-align: right;\n    }\n</style>\n<table border=\"1\" class=\"dataframe\">\n  <thead>\n    <tr style=\"text-align: right;\">\n      <th></th>\n      <th>DEMAND</th>\n      <th>INTERMITTENT_DS_PRED</th>\n      <th>1</th>\n      <th>RUN_DATETIME</th>\n      <th>DUID</th>\n      <th>ORIGIN</th>\n      <th>FORECAST_PRIORITY</th>\n      <th>OFFERDATETIME</th>\n      <th>INTERVAL_DATETIME</th>\n      <th>FORECAST_MEAN</th>\n      <th>FORECAST_POE10</th>\n      <th>FORECAST_POE50</th>\n      <th>FORECAST_POE90</th>\n    </tr>\n  </thead>\n  <tbody>\n    <tr>\n      <td>40693</td>\n      <td>DEMAND</td>\n      <td>INTERMITTENT_DS_PRED</td>\n      <td>1</td>\n      <td>2020/04/11 08:55:00</td>\n      <td>KSP1</td>\n      <td>KIDSTON</td>\n      <td>3</td>\n      <td>2020/04/11 08:46:25</td>\n      <td>2020/04/11 08:55:00</td>\n      <td>NaN</td>\n      <td>NaN</td>\n      <td>0.0000</td>\n      <td>NaN</td>\n    </tr>\n    <tr>\n      <td>172953</td>\n      <td>DEMAND</td>\n      <td>INTERMITTENT_DS_PRED</td>\n      <td>1</td>\n      <td>2020/04/11 08:50:00</td>\n      <td>KSP1</td>\n      <td>KIDSTON</td>\n      <td>98</td>\n      <td>2020/04/11 08:42:27</td>\n      <td>2020/04/11 08:50:00</td>\n      <td>NaN</td>\n      <td>NaN</td>\n      <td>0.0000</td>\n      <td>NaN</td>\n    </tr>\n    <tr>\n      <td>12296</td>\n      <td>DEMAND</td>\n      <td>INTERMITTENT_DS_PRED</td>\n      <td>1</td>\n      <td>2020/04/11 13:10:00</td>\n      <td>CROWLWF1</td>\n      <td>CROWLDWF</td>\n      <td>1</td>\n      <td>2020/04/11 13:00:08</td>\n      <td>2020/04/11 13:10:00</td>\n      <td>NaN</td>\n      <td>NaN</td>\n      <td>0.0000</td>\n      <td>NaN</td>\n    </tr>\n    <tr>\n      <td>194451</td>\n      <td>DEMAND</td>\n      <td>INTERMITTENT_DS_PRED</td>\n      <td>1</td>\n      <td>2020/04/11 07:25:00</td>\n      <td>LILYSF1</td>\n      <td>EEQLILY</td>\n      <td>1</td>\n      <td>2020/04/11 07:17:14</td>\n      <td>2020/04/11 07:25:00</td>\n      <td>NaN</td>\n      <td>NaN</td>\n      <td>48.1860</td>\n      <td>NaN</td>\n    </tr>\n    <tr>\n      <td>211388</td>\n      <td>DEMAND</td>\n      <td>INTERMITTENT_DS_PRED</td>\n      <td>1</td>\n      <td>2020/04/11 08:50:00</td>\n      <td>HAUGHT11</td>\n      <td>HAUGHTSF</td>\n      <td>98</td>\n      <td>2020/04/11 08:42:56</td>\n      <td>2020/04/11 08:50:00</td>\n      <td>NaN</td>\n      <td>NaN</td>\n      <td>0.0000</td>\n      <td>NaN</td>\n    </tr>\n    <tr>\n      <td>96475</td>\n      <td>DEMAND</td>\n      <td>INTERMITTENT_DS_PRED</td>\n      <td>1</td>\n      <td>2020/04/11 11:05:00</td>\n      <td>KSP1</td>\n      <td>KIDSTON</td>\n      <td>101</td>\n      <td>2020/04/11 10:58:08</td>\n      <td>2020/04/11 11:05:00</td>\n      <td>NaN</td>\n      <td>NaN</td>\n      <td>45.7974</td>\n      <td>NaN</td>\n    </tr>\n    <tr>\n      <td>172062</td>\n      <td>DEMAND</td>\n      <td>INTERMITTENT_DS_PRED</td>\n      <td>1</td>\n      <td>2020/04/12 02:30:00</td>\n      <td>TARALGA1</td>\n      <td>TARALGA</td>\n      <td>2</td>\n      <td>2020/04/12 02:21:22</td>\n      <td>2020/04/12 02:30:00</td>\n      <td>NaN</td>\n      <td>NaN</td>\n      <td>0.0000</td>\n      <td>NaN</td>\n    </tr>\n  </tbody>\n</table>\n</div>"
     },
     "metadata": {},
     "execution_count": 29
    }
   ],
   "source": [
    "test[k][1].sample(7)"
   ]
  }
 ]
}