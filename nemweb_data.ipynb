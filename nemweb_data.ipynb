{
 "nbformat": 4,
 "nbformat_minor": 2,
 "metadata": {
  "language_info": {
   "name": "python",
   "codemirror_mode": {
    "name": "ipython",
    "version": 3
   },
   "version": "3.7.4-final"
  },
  "orig_nbformat": 2,
  "file_extension": ".py",
  "mimetype": "text/x-python",
  "name": "python",
  "npconvert_exporter": "python",
  "pygments_lexer": "ipython3",
  "version": 3,
  "kernelspec": {
   "name": "python36964bitbaseconda1682f8aab098458db6e9bf1e6e5a7b4e",
   "display_name": "Python 3.6.9 64-bit ('base': conda)"
  }
 },
 "cells": [
  {
   "cell_type": "markdown",
   "metadata": {},
   "source": [
    "# NEM Open Data Extraction Tool\n",
    "\n",
    "**The Objective**: to create a tool that can easily extract open data from nemweb.com.au and assemble it into an analysis-ready format.\n",
    "\n",
    "* For the intitial testing phase, extracted data will be stored as CSV files\n",
    "* Once the data extraction pipeline is set up, we can experiment with SQL databases"
   ]
  },
  {
   "cell_type": "code",
   "execution_count": 1,
   "metadata": {},
   "outputs": [],
   "source": [
    "%load_ext autoreload\n",
    "%autoreload 2\n",
    "\n",
    "import requests\n",
    "from bs4 import BeautifulSoup\n",
    "from io import BytesIO\n",
    "from zipfile import ZipFile\n",
    "import pandas as pd"
   ]
  },
  {
   "cell_type": "markdown",
   "metadata": {},
   "source": [
    "### Creating a custom JSON sitemap\n",
    "\n",
    "We require a dynamic way of navigating the NEM website to locate and extract resources. A JSON file that tracks the data files in a given location on the NEM website could be helpful... \n",
    "\n",
    "* Define data directories i.e. a function to add new directories to JSON\n",
    "  * Perhaps have a *comments* field that allows user to insert comments about the data resource\n",
    "* Each data directory file has an additional flag whether the data has been extracted or not - maybe a CSV file might work better... (it could also convert the timestamps to datetime to allow datatime queries)"
   ]
  },
  {
   "cell_type": "code",
   "execution_count": null,
   "metadata": {},
   "outputs": [],
   "source": []
  }
 ]
}