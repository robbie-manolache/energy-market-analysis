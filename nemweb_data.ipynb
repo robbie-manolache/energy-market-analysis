{
 "nbformat": 4,
 "nbformat_minor": 2,
 "metadata": {
  "language_info": {
   "name": "python",
   "codemirror_mode": {
    "name": "ipython",
    "version": 3
   },
   "version": "3.7.4-final"
  },
  "orig_nbformat": 2,
  "file_extension": ".py",
  "mimetype": "text/x-python",
  "name": "python",
  "npconvert_exporter": "python",
  "pygments_lexer": "ipython3",
  "version": 3,
  "kernelspec": {
   "name": "python36964bitbaseconda1682f8aab098458db6e9bf1e6e5a7b4e",
   "display_name": "Python 3.6.9 64-bit ('base': conda)"
  }
 },
 "cells": [
  {
   "cell_type": "markdown",
   "metadata": {},
   "source": [
    "# NEM Open Data Extraction Tool\n",
    "\n",
    "**The Objective**: to create a tool that can easily extract open data from nemweb.com.au and assemble it into an analysis-ready format.\n",
    "\n",
    "* For the intitial testing phase, extracted data will be stored as CSV files\n",
    "* Once the data extraction pipeline is set up, we can experiment with SQL databases"
   ]
  },
  {
   "cell_type": "code",
   "execution_count": 1,
   "metadata": {},
   "outputs": [
    {
     "output_type": "stream",
     "name": "stdout",
     "text": "Value for DATA_PATH has been set!\n"
    }
   ],
   "source": [
    "%load_ext autoreload\n",
    "%autoreload 2\n",
    "\n",
    "# Standard Python\n",
    "import os\n",
    "from io import BytesIO\n",
    "from zipfile import ZipFile\n",
    "import pandas as pd\n",
    "\n",
    "# My modules\n",
    "from nem_tracker import NEM_tracker\n",
    "import config\n",
    "config.use('config.json')"
   ]
  },
  {
   "cell_type": "markdown",
   "metadata": {},
   "source": [
    "### Creating a custom JSON sitemap\n",
    "\n",
    "We require a dynamic way of navigating the NEM website to locate and extract resources. A JSON file that tracks the data files in a given location on the NEM website could be helpful... \n",
    "\n",
    "* Define data directories i.e. a function to add new directories to JSON\n",
    "  * Perhaps have a *comments* field that allows user to insert comments about the data resource\n",
    "* Each data directory file has an additional flag whether the data has been extracted or not - maybe a CSV file might work better... (it could also convert the timestamps to datetime to allow datatime queries)"
   ]
  },
  {
   "cell_type": "code",
   "execution_count": 2,
   "metadata": {},
   "outputs": [
    {
     "output_type": "execute_result",
     "data": {
      "text/plain": "             TIMESTAMP          UPLOAD_DATE  DOWNLOADED        DOWNLOAD_DATE  \\\n0  2020-02-05 00:00:00  2020-02-06 04:40:00       False  1900-01-01 00:00:00   \n1  2020-02-06 00:00:00  2020-02-07 04:40:00       False  1900-01-01 00:00:00   \n2  2020-02-07 00:00:00  2020-02-08 04:40:01       False  1900-01-01 00:00:00   \n3  2020-02-08 00:00:00  2020-02-09 04:40:00       False  1900-01-01 00:00:00   \n4  2020-02-09 00:00:00  2020-02-10 04:40:01       False  1900-01-01 00:00:00   \n\n                                                 URL  \n0  http://nemweb.com.au/Reports/Current/Operation...  \n1  http://nemweb.com.au/Reports/Current/Operation...  \n2  http://nemweb.com.au/Reports/Current/Operation...  \n3  http://nemweb.com.au/Reports/Current/Operation...  \n4  http://nemweb.com.au/Reports/Current/Operation...  ",
      "text/html": "<div>\n<style scoped>\n    .dataframe tbody tr th:only-of-type {\n        vertical-align: middle;\n    }\n\n    .dataframe tbody tr th {\n        vertical-align: top;\n    }\n\n    .dataframe thead th {\n        text-align: right;\n    }\n</style>\n<table border=\"1\" class=\"dataframe\">\n  <thead>\n    <tr style=\"text-align: right;\">\n      <th></th>\n      <th>TIMESTAMP</th>\n      <th>UPLOAD_DATE</th>\n      <th>DOWNLOADED</th>\n      <th>DOWNLOAD_DATE</th>\n      <th>URL</th>\n    </tr>\n  </thead>\n  <tbody>\n    <tr>\n      <td>0</td>\n      <td>2020-02-05 00:00:00</td>\n      <td>2020-02-06 04:40:00</td>\n      <td>False</td>\n      <td>1900-01-01 00:00:00</td>\n      <td>http://nemweb.com.au/Reports/Current/Operation...</td>\n    </tr>\n    <tr>\n      <td>1</td>\n      <td>2020-02-06 00:00:00</td>\n      <td>2020-02-07 04:40:00</td>\n      <td>False</td>\n      <td>1900-01-01 00:00:00</td>\n      <td>http://nemweb.com.au/Reports/Current/Operation...</td>\n    </tr>\n    <tr>\n      <td>2</td>\n      <td>2020-02-07 00:00:00</td>\n      <td>2020-02-08 04:40:01</td>\n      <td>False</td>\n      <td>1900-01-01 00:00:00</td>\n      <td>http://nemweb.com.au/Reports/Current/Operation...</td>\n    </tr>\n    <tr>\n      <td>3</td>\n      <td>2020-02-08 00:00:00</td>\n      <td>2020-02-09 04:40:00</td>\n      <td>False</td>\n      <td>1900-01-01 00:00:00</td>\n      <td>http://nemweb.com.au/Reports/Current/Operation...</td>\n    </tr>\n    <tr>\n      <td>4</td>\n      <td>2020-02-09 00:00:00</td>\n      <td>2020-02-10 04:40:01</td>\n      <td>False</td>\n      <td>1900-01-01 00:00:00</td>\n      <td>http://nemweb.com.au/Reports/Current/Operation...</td>\n    </tr>\n  </tbody>\n</table>\n</div>"
     },
     "metadata": {},
     "execution_count": 2
    }
   ],
   "source": [
    "data_dir = os.getenv('DATA_PATH')\n",
    "nem_trk = NEM_tracker(data_dir)\n",
    "resource = '/Reports/Current/Operational_Demand/ACTUAL_DAILY/'\n",
    "tracker_dir = nem_trk.tracker_dir\n",
    "test = pd.read_csv(os.path.join(tracker_dir, os.listdir(tracker_dir)[0]))\n",
    "test.head()"
   ]
  },
  {
   "cell_type": "code",
   "execution_count": 4,
   "metadata": {},
   "outputs": [
    {
     "output_type": "execute_result",
     "data": {
      "text/plain": "dict_keys(['/Reports/Current/Operational_Demand/ACTUAL_DAILY/'])"
     },
     "metadata": {},
     "execution_count": 4
    }
   ],
   "source": [
    "nem_trk.resources.keys()"
   ]
  }
 ]
}