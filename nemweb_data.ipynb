{
 "nbformat": 4,
 "nbformat_minor": 2,
 "metadata": {
  "language_info": {
   "name": "python",
   "codemirror_mode": {
    "name": "ipython",
    "version": 3
   },
   "version": "3.7.4-final"
  },
  "orig_nbformat": 2,
  "file_extension": ".py",
  "mimetype": "text/x-python",
  "name": "python",
  "npconvert_exporter": "python",
  "pygments_lexer": "ipython3",
  "version": 3,
  "kernelspec": {
   "name": "python36964bitbaseconda1682f8aab098458db6e9bf1e6e5a7b4e",
   "display_name": "Python 3.6.9 64-bit ('base': conda)"
  }
 },
 "cells": [
  {
   "cell_type": "markdown",
   "metadata": {},
   "source": [
    "# NEM Open Data Extraction Tool\n",
    "\n",
    "**The Objective**: to create a tool that can easily extract open data from nemweb.com.au and assemble it into an analysis-ready format.\n",
    "\n",
    "* For the intitial testing phase, extracted data will be stored as CSV files\n",
    "* Once the data extraction pipeline is set up, we can experiment with SQL databases"
   ]
  },
  {
   "cell_type": "code",
   "execution_count": 1,
   "metadata": {},
   "outputs": [
    {
     "output_type": "stream",
     "name": "stdout",
     "text": "Value for DATA_PATH has been set!\n"
    }
   ],
   "source": [
    "%load_ext autoreload\n",
    "%autoreload 2\n",
    "\n",
    "# Standard Python\n",
    "import os\n",
    "from io import BytesIO\n",
    "from zipfile import ZipFile\n",
    "from datetime import datetime as dt\n",
    "import pandas as pd\n",
    "\n",
    "# My modules\n",
    "from nem_tracker import NEM_tracker\n",
    "from nem_extract import NEM_extractor\n",
    "import config\n",
    "config.use('config.json')"
   ]
  },
  {
   "cell_type": "markdown",
   "metadata": {},
   "source": [
    "### NEM Tracker\n",
    "\n",
    "* `.bulk_update()` method will update all existing resources\n",
    "* to add a new resource use `.update_resource(resource, new=True)`\n",
    "* tracking CSVs in `.tracker_dir` keep track of resource URLs "
   ]
  },
  {
   "cell_type": "code",
   "execution_count": 4,
   "metadata": {},
   "outputs": [],
   "source": [
    "data_dir = os.getenv('DATA_PATH')\n",
    "#nem_trk = NEM_tracker(data_dir)\n",
    "#nem_trk.bulk_update()"
   ]
  },
  {
   "cell_type": "markdown",
   "metadata": {},
   "source": [
    "### NEM Extractor"
   ]
  },
  {
   "cell_type": "code",
   "execution_count": 5,
   "metadata": {},
   "outputs": [
    {
     "output_type": "execute_result",
     "data": {
      "text/plain": "'/Reports/Current/Operational_Demand/ACTUAL_DAILY/'"
     },
     "metadata": {},
     "execution_count": 5
    }
   ],
   "source": [
    "nem_get = NEM_extractor(data_dir)\n",
    "nem_get.select_resource()\n",
    "nem_get.selected_resource"
   ]
  },
  {
   "cell_type": "code",
   "execution_count": 6,
   "metadata": {},
   "outputs": [
    {
     "output_type": "stream",
     "name": "stdout",
     "text": "<class 'pandas.core.frame.DataFrame'>\nRangeIndex: 60 entries, 0 to 59\nData columns (total 5 columns):\nTIMESTAMP        60 non-null datetime64[ns]\nUPLOAD_DATE      60 non-null datetime64[ns]\nDOWNLOADED       60 non-null bool\nDOWNLOAD_DATE    60 non-null datetime64[ns]\nURL              60 non-null object\ndtypes: bool(1), datetime64[ns](3), object(1)\nmemory usage: 2.1+ KB\n"
    }
   ],
   "source": [
    "nem_get.load_tracker_df()\n",
    "nem_get.current_tracker_df.info()"
   ]
  },
  {
   "cell_type": "code",
   "execution_count": 7,
   "metadata": {},
   "outputs": [
    {
     "output_type": "execute_result",
     "data": {
      "text/plain": "[Timestamp('2020-04-03 00:00:00'), Timestamp('2020-04-05 00:00:00')]"
     },
     "metadata": {},
     "execution_count": 7
    }
   ],
   "source": [
    "nem_get.adjust_time_range(date_min='2020-04-03')\n",
    "nem_get.time_range"
   ]
  },
  {
   "cell_type": "code",
   "execution_count": 8,
   "metadata": {},
   "outputs": [
    {
     "output_type": "execute_result",
     "data": {
      "text/plain": "    TIMESTAMP         UPLOAD_DATE  DOWNLOADED DOWNLOAD_DATE  \\\n57 2020-04-03 2020-04-04 04:40:00       False    1900-01-01   \n58 2020-04-04 2020-04-05 04:40:00       False    1900-01-01   \n59 2020-04-05 2020-04-06 04:40:01       False    1900-01-01   \n\n                                                  URL  \n57  http://nemweb.com.au/Reports/Current/Operation...  \n58  http://nemweb.com.au/Reports/Current/Operation...  \n59  http://nemweb.com.au/Reports/Current/Operation...  ",
      "text/html": "<div>\n<style scoped>\n    .dataframe tbody tr th:only-of-type {\n        vertical-align: middle;\n    }\n\n    .dataframe tbody tr th {\n        vertical-align: top;\n    }\n\n    .dataframe thead th {\n        text-align: right;\n    }\n</style>\n<table border=\"1\" class=\"dataframe\">\n  <thead>\n    <tr style=\"text-align: right;\">\n      <th></th>\n      <th>TIMESTAMP</th>\n      <th>UPLOAD_DATE</th>\n      <th>DOWNLOADED</th>\n      <th>DOWNLOAD_DATE</th>\n      <th>URL</th>\n    </tr>\n  </thead>\n  <tbody>\n    <tr>\n      <td>57</td>\n      <td>2020-04-03</td>\n      <td>2020-04-04 04:40:00</td>\n      <td>False</td>\n      <td>1900-01-01</td>\n      <td>http://nemweb.com.au/Reports/Current/Operation...</td>\n    </tr>\n    <tr>\n      <td>58</td>\n      <td>2020-04-04</td>\n      <td>2020-04-05 04:40:00</td>\n      <td>False</td>\n      <td>1900-01-01</td>\n      <td>http://nemweb.com.au/Reports/Current/Operation...</td>\n    </tr>\n    <tr>\n      <td>59</td>\n      <td>2020-04-05</td>\n      <td>2020-04-06 04:40:01</td>\n      <td>False</td>\n      <td>1900-01-01</td>\n      <td>http://nemweb.com.au/Reports/Current/Operation...</td>\n    </tr>\n  </tbody>\n</table>\n</div>"
     },
     "metadata": {},
     "execution_count": 8
    }
   ],
   "source": [
    "nem_get.set_download_df()\n",
    "nem_get.download_df"
   ]
  },
  {
   "cell_type": "code",
   "execution_count": 9,
   "metadata": {},
   "outputs": [
    {
     "output_type": "execute_result",
     "data": {
      "text/plain": "    TIMESTAMP         UPLOAD_DATE  DOWNLOADED       DOWNLOAD_DATE  \\\n55 2020-04-01 2020-04-02 04:40:00       False 1900-01-01 00:00:00   \n56 2020-04-02 2020-04-03 04:40:01       False 1900-01-01 00:00:00   \n57 2020-04-03 2020-04-04 04:40:00        True 2020-04-06 21:12:31   \n58 2020-04-04 2020-04-05 04:40:00        True 2020-04-06 21:12:31   \n59 2020-04-05 2020-04-06 04:40:01        True 2020-04-06 21:12:32   \n\n                                                  URL  \n55  http://nemweb.com.au/Reports/Current/Operation...  \n56  http://nemweb.com.au/Reports/Current/Operation...  \n57  http://nemweb.com.au/Reports/Current/Operation...  \n58  http://nemweb.com.au/Reports/Current/Operation...  \n59  http://nemweb.com.au/Reports/Current/Operation...  ",
      "text/html": "<div>\n<style scoped>\n    .dataframe tbody tr th:only-of-type {\n        vertical-align: middle;\n    }\n\n    .dataframe tbody tr th {\n        vertical-align: top;\n    }\n\n    .dataframe thead th {\n        text-align: right;\n    }\n</style>\n<table border=\"1\" class=\"dataframe\">\n  <thead>\n    <tr style=\"text-align: right;\">\n      <th></th>\n      <th>TIMESTAMP</th>\n      <th>UPLOAD_DATE</th>\n      <th>DOWNLOADED</th>\n      <th>DOWNLOAD_DATE</th>\n      <th>URL</th>\n    </tr>\n  </thead>\n  <tbody>\n    <tr>\n      <td>55</td>\n      <td>2020-04-01</td>\n      <td>2020-04-02 04:40:00</td>\n      <td>False</td>\n      <td>1900-01-01 00:00:00</td>\n      <td>http://nemweb.com.au/Reports/Current/Operation...</td>\n    </tr>\n    <tr>\n      <td>56</td>\n      <td>2020-04-02</td>\n      <td>2020-04-03 04:40:01</td>\n      <td>False</td>\n      <td>1900-01-01 00:00:00</td>\n      <td>http://nemweb.com.au/Reports/Current/Operation...</td>\n    </tr>\n    <tr>\n      <td>57</td>\n      <td>2020-04-03</td>\n      <td>2020-04-04 04:40:00</td>\n      <td>True</td>\n      <td>2020-04-06 21:12:31</td>\n      <td>http://nemweb.com.au/Reports/Current/Operation...</td>\n    </tr>\n    <tr>\n      <td>58</td>\n      <td>2020-04-04</td>\n      <td>2020-04-05 04:40:00</td>\n      <td>True</td>\n      <td>2020-04-06 21:12:31</td>\n      <td>http://nemweb.com.au/Reports/Current/Operation...</td>\n    </tr>\n    <tr>\n      <td>59</td>\n      <td>2020-04-05</td>\n      <td>2020-04-06 04:40:01</td>\n      <td>True</td>\n      <td>2020-04-06 21:12:32</td>\n      <td>http://nemweb.com.au/Reports/Current/Operation...</td>\n    </tr>\n  </tbody>\n</table>\n</div>"
     },
     "metadata": {},
     "execution_count": 9
    }
   ],
   "source": [
    "nem_get.download_files()\n",
    "nem_get.current_tracker_df.tail()"
   ]
  }
 ]
}