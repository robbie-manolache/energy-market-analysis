{
 "nbformat": 4,
 "nbformat_minor": 2,
 "metadata": {
  "language_info": {
   "name": "python",
   "codemirror_mode": {
    "name": "ipython",
    "version": 3
   },
   "version": "3.7.4-final"
  },
  "orig_nbformat": 2,
  "file_extension": ".py",
  "mimetype": "text/x-python",
  "name": "python",
  "npconvert_exporter": "python",
  "pygments_lexer": "ipython3",
  "version": 3,
  "kernelspec": {
   "name": "python36964bitbaseconda1682f8aab098458db6e9bf1e6e5a7b4e",
   "display_name": "Python 3.6.9 64-bit ('base': conda)"
  }
 },
 "cells": [
  {
   "cell_type": "markdown",
   "metadata": {},
   "source": [
    "# NEM Open Data Extraction Tool\n",
    "\n",
    "**The Objective**: to create a tool that can easily extract open data from nemweb.com.au and assemble it into an analysis-ready format.\n",
    "\n",
    "* For the intitial testing phase, extracted data will be stored as CSV files\n",
    "* Once the data extraction pipeline is set up, we can experiment with SQL databases"
   ]
  },
  {
   "cell_type": "code",
   "execution_count": 1,
   "metadata": {},
   "outputs": [
    {
     "output_type": "stream",
     "name": "stdout",
     "text": "Value for DATA_PATH has been set!\n"
    }
   ],
   "source": [
    "%load_ext autoreload\n",
    "%autoreload 2\n",
    "\n",
    "# Standard Python\n",
    "import os\n",
    "from io import BytesIO\n",
    "from zipfile import ZipFile\n",
    "import pandas as pd\n",
    "\n",
    "# My modules\n",
    "from nem_tracker import NEM_tracker\n",
    "from nem_extract import NEM_extractor\n",
    "import config\n",
    "config.use('config.json')"
   ]
  },
  {
   "cell_type": "markdown",
   "metadata": {},
   "source": [
    "### Creating a custom JSON sitemap\n",
    "\n",
    "We require a dynamic way of navigating the NEM website to locate and extract resources. A JSON file that tracks the data files in a given location on the NEM website could be helpful... \n",
    "\n",
    "* Define data directories i.e. a function to add new directories to JSON\n",
    "  * Perhaps have a *comments* field that allows user to insert comments about the data resource\n",
    "* Each data directory file has an additional flag whether the data has been extracted or not - maybe a CSV file might work better... (it could also convert the timestamps to datetime to allow datatime queries)"
   ]
  },
  {
   "cell_type": "code",
   "execution_count": 2,
   "metadata": {},
   "outputs": [
    {
     "output_type": "execute_result",
     "data": {
      "text/plain": "'/Reports/Current/Operational_Demand/ACTUAL_DAILY/'"
     },
     "metadata": {},
     "execution_count": 2
    }
   ],
   "source": [
    "data_dir = os.getenv('DATA_PATH')\n",
    "nem_get = NEM_extractor(data_dir)\n",
    "nem_get.select_resource()\n",
    "nem_get.selected_resource"
   ]
  },
  {
   "cell_type": "code",
   "execution_count": 3,
   "metadata": {},
   "outputs": [
    {
     "output_type": "stream",
     "name": "stdout",
     "text": "<class 'pandas.core.frame.DataFrame'>\nRangeIndex: 60 entries, 0 to 59\nData columns (total 5 columns):\nTIMESTAMP        60 non-null object\nUPLOAD_DATE      60 non-null object\nDOWNLOADED       60 non-null bool\nDOWNLOAD_DATE    60 non-null object\nURL              60 non-null object\ndtypes: bool(1), object(4)\nmemory usage: 2.1+ KB\n"
    }
   ],
   "source": [
    "nem_get.load_tracker_df()\n",
    "nem_get.current_tracker_df.info()"
   ]
  },
  {
   "cell_type": "code",
   "execution_count": 4,
   "metadata": {},
   "outputs": [
    {
     "output_type": "execute_result",
     "data": {
      "text/plain": "['2020-02-05 00:00:00', '2020-04-04 00:00:00']"
     },
     "metadata": {},
     "execution_count": 4
    }
   ],
   "source": [
    "nem_get.time_range"
   ]
  },
  {
   "cell_type": "markdown",
   "metadata": {},
   "source": [
    "## Next steps:\n",
    "\n",
    "* Need to use `DOWNLOADED` flag to extract data from URLs within `.time_range`\n",
    "* Need to set `DOWNLOADED_DATE` to current timestamp after extraction\n",
    "  * Also set `DOWNLOADED` flag to `True`\n",
    "* Need to also set a directory for downloaded data\n",
    "  * Ideally based off `file_name` for `.current_tracker_df`"
   ]
  }
 ]
}