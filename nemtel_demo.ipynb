{
 "nbformat": 4,
 "nbformat_minor": 2,
 "metadata": {
  "language_info": {
   "name": "python",
   "codemirror_mode": {
    "name": "ipython",
    "version": 3
   },
   "version": "3.7.4-final"
  },
  "orig_nbformat": 2,
  "file_extension": ".py",
  "mimetype": "text/x-python",
  "name": "python",
  "npconvert_exporter": "python",
  "pygments_lexer": "ipython3",
  "version": 3,
  "kernelspec": {
   "name": "python36964bitbaseconda1682f8aab098458db6e9bf1e6e5a7b4e",
   "display_name": "Python 3.6.9 64-bit ('base': conda)"
  }
 },
 "cells": [
  {
   "cell_type": "markdown",
   "metadata": {},
   "source": [
    "# NEM-TEL: National Energy Market - Track, Extract, Load\n",
    "### *A tool for tracking, extracting and loading NEM open data resources on the go*\n",
    "\n",
    "***\n",
    "\n",
    "<br>\n",
    "\n",
    "## Setup\n",
    "\n",
    "* Use the `config_template.json` to create your own `config.json` file. Here, you just need to specify the path to the directory where you want to store the NEM data."
   ]
  },
  {
   "cell_type": "code",
   "execution_count": 1,
   "metadata": {},
   "outputs": [
    {
     "output_type": "stream",
     "name": "stdout",
     "text": "Value for DATA_PATH has been set!\n"
    }
   ],
   "source": [
    "%load_ext autoreload\n",
    "%autoreload 2\n",
    "\n",
    "# Standard Python\n",
    "import os\n",
    "import pandas as pd\n",
    "\n",
    "# NEM-TEL modules\n",
    "from nemtel.tracker import NEM_tracker\n",
    "from nemtel.extractor import NEM_extractor\n",
    "from nemtel.loader import NEM_loader\n",
    "\n",
    "# Configuration\n",
    "import config\n",
    "config.use('config.json')"
   ]
  },
  {
   "cell_type": "markdown",
   "metadata": {},
   "source": [
    "## NEM Tracker\n",
    "\n",
    "* create an instance of the `NEM_tracker` object, providing a `data_dir` as the path to the main data directory (note this can be specified manually, but I set it in the `config.json` file)\n",
    "* run the `resources_report()` method to check up on what NEM data resources you're tracking - here resource means the relative URL path to where the data files are located on `'http://nemweb.com.au'`\n",
    "\n",
    "* to add a new resource use `.update_resource(resource, new=True)`\n",
    "* tracking CSVs in `.tracker_dir` keep track of resource URLs "
   ]
  },
  {
   "cell_type": "code",
   "execution_count": 2,
   "metadata": {},
   "outputs": [
    {
     "output_type": "stream",
     "name": "stdout",
     "text": "\n/Reports/Current/Operational_Demand/ACTUAL_DAILY/\nLast update: 2020-04-13-10:44:42\n\n/Reports/Current/Dispatch_SCADA/\nLast update: 2020-04-13-10:44:42\n\n/Reports/Current/Next_Day_Intermittent_DS/\nLast update: 2020-04-13-10:44:42\n\n/Reports/Archive/Operational_Demand/Actual_Daily/\nLast update: 2020-04-13-10:44:42\n"
    }
   ],
   "source": [
    "data_dir = os.getenv('NEM_PATH')\n",
    "nem_trk = NEM_tracker(data_dir)\n",
    "nem_trk.resources_report()"
   ]
  },
  {
   "cell_type": "markdown",
   "metadata": {},
   "source": [
    "### Adding and updating NEM data resources\n",
    "\n",
    "* `.bulk_update()` method will update all existing resources. Some NEM data is updated every 5 minutes! Therefore, it is important to run this update to obtain a list of the latest available data files.\n",
    "\n",
    "* the `add_resources()` method allows users to add any new relative URL paths from `'http://nemweb.com.au'`\n",
    "\n",
    "* everytime a resource is added/updated it will be reflected in the resource's 'tracker' CSV file in the directory path, which can be found by checking the `.tracker_dir` attribute."
   ]
  },
  {
   "cell_type": "code",
   "execution_count": 3,
   "metadata": {},
   "outputs": [],
   "source": [
    "nem_trk.bulk_update()\n",
    "resources_new = []\n",
    "nem_trk.add_resources(resources_new)"
   ]
  },
  {
   "cell_type": "markdown",
   "metadata": {},
   "source": [
    "## NEM Extractor\n",
    "\n",
    "* The `NEM_extractor` class inherits from the `NEM_tracker` class. If the same `data_dir` is provided as an argument, it will identify all the tracked resources.\n",
    "\n",
    "* The `select_resource()` method allows the user to choose one of the currently tracked resources to work with."
   ]
  },
  {
   "cell_type": "code",
   "execution_count": 4,
   "metadata": {},
   "outputs": [
    {
     "output_type": "stream",
     "name": "stdout",
     "text": "[0] /Reports/Current/Operational_Demand/ACTUAL_DAILY/\n[1] /Reports/Current/Dispatch_SCADA/\n[2] /Reports/Current/Next_Day_Intermittent_DS/\n[3] /Reports/Archive/Operational_Demand/Actual_Daily/\n\nSelected: /Reports/Current/Dispatch_SCADA/\n"
    }
   ],
   "source": [
    "nem_get = NEM_extractor(data_dir)\n",
    "nem_get.select_resource()"
   ]
  },
  {
   "cell_type": "markdown",
   "metadata": {},
   "source": [
    "### The tracker file\n",
    "\n",
    "* for the selected resource, we can use the `load_tracker_df()` method which sets the `current_tracker_df` attribute.\n",
    "* `current_tracker_df` contains several useful fields:\n",
    "  * the `TIMESTAMP` and `VERSION` (if applicable) for each file \n",
    "  * whether or not it has been `DOWNLOADED` and when (note `1900-01-01` is the default if it has not been downloaded to avoid Pandas data type issues with `NaN`)\n",
    "  * the `URL` from which we need to request the data"
   ]
  },
  {
   "cell_type": "code",
   "execution_count": 5,
   "metadata": {},
   "outputs": [
    {
     "output_type": "execute_result",
     "data": {
      "text/plain": "              TIMESTAMP            VERSION  DOWNLOADED DOWNLOAD_DATE  \\\n574 2020-04-13 10:35:00  V0000000321591470       False    1900-01-01   \n575 2020-04-13 10:40:00  V0000000321591665       False    1900-01-01   \n576 2020-04-13 10:45:00  V0000000321591804       False    1900-01-01   \n\n                                                   URL  \n574  http://nemweb.com.au/Reports/Current/Dispatch_...  \n575  http://nemweb.com.au/Reports/Current/Dispatch_...  \n576  http://nemweb.com.au/Reports/Current/Dispatch_...  ",
      "text/html": "<div>\n<style scoped>\n    .dataframe tbody tr th:only-of-type {\n        vertical-align: middle;\n    }\n\n    .dataframe tbody tr th {\n        vertical-align: top;\n    }\n\n    .dataframe thead th {\n        text-align: right;\n    }\n</style>\n<table border=\"1\" class=\"dataframe\">\n  <thead>\n    <tr style=\"text-align: right;\">\n      <th></th>\n      <th>TIMESTAMP</th>\n      <th>VERSION</th>\n      <th>DOWNLOADED</th>\n      <th>DOWNLOAD_DATE</th>\n      <th>URL</th>\n    </tr>\n  </thead>\n  <tbody>\n    <tr>\n      <td>574</td>\n      <td>2020-04-13 10:35:00</td>\n      <td>V0000000321591470</td>\n      <td>False</td>\n      <td>1900-01-01</td>\n      <td>http://nemweb.com.au/Reports/Current/Dispatch_...</td>\n    </tr>\n    <tr>\n      <td>575</td>\n      <td>2020-04-13 10:40:00</td>\n      <td>V0000000321591665</td>\n      <td>False</td>\n      <td>1900-01-01</td>\n      <td>http://nemweb.com.au/Reports/Current/Dispatch_...</td>\n    </tr>\n    <tr>\n      <td>576</td>\n      <td>2020-04-13 10:45:00</td>\n      <td>V0000000321591804</td>\n      <td>False</td>\n      <td>1900-01-01</td>\n      <td>http://nemweb.com.au/Reports/Current/Dispatch_...</td>\n    </tr>\n  </tbody>\n</table>\n</div>"
     },
     "metadata": {},
     "execution_count": 5
    }
   ],
   "source": [
    "nem_get.load_tracker_df()\n",
    "nem_get.current_tracker_df.tail(3)"
   ]
  },
  {
   "cell_type": "markdown",
   "metadata": {},
   "source": [
    "### Selecting files to download\n",
    "\n",
    "* this involves subsetting the `current_tracker_df` using the `set_download_df()` method, which allows a number of options to narrow down, either by choosing the *n* `latest` rows, specifying a time range, or by setting the DataFrame manually"
   ]
  },
  {
   "cell_type": "code",
   "execution_count": 6,
   "metadata": {},
   "outputs": [
    {
     "output_type": "execute_result",
     "data": {
      "text/plain": "              TIMESTAMP            VERSION  DOWNLOADED DOWNLOAD_DATE  \\\n576 2020-04-13 10:45:00  V0000000321591804       False    1900-01-01   \n\n                                                   URL  \n576  http://nemweb.com.au/Reports/Current/Dispatch_...  ",
      "text/html": "<div>\n<style scoped>\n    .dataframe tbody tr th:only-of-type {\n        vertical-align: middle;\n    }\n\n    .dataframe tbody tr th {\n        vertical-align: top;\n    }\n\n    .dataframe thead th {\n        text-align: right;\n    }\n</style>\n<table border=\"1\" class=\"dataframe\">\n  <thead>\n    <tr style=\"text-align: right;\">\n      <th></th>\n      <th>TIMESTAMP</th>\n      <th>VERSION</th>\n      <th>DOWNLOADED</th>\n      <th>DOWNLOAD_DATE</th>\n      <th>URL</th>\n    </tr>\n  </thead>\n  <tbody>\n    <tr>\n      <td>576</td>\n      <td>2020-04-13 10:45:00</td>\n      <td>V0000000321591804</td>\n      <td>False</td>\n      <td>1900-01-01</td>\n      <td>http://nemweb.com.au/Reports/Current/Dispatch_...</td>\n    </tr>\n  </tbody>\n</table>\n</div>"
     },
     "metadata": {},
     "execution_count": 6
    }
   ],
   "source": [
    "#nem_get.adjust_time_range(date_min='2020-03-01')\n",
    "nem_get.set_download_df(latest=1, by_time_range=False, manual_df=None)\n",
    "nem_get.download_df"
   ]
  },
  {
   "cell_type": "markdown",
   "metadata": {},
   "source": [
    "### Downloading the files\n",
    "\n",
    "* Once this is set, just run `download_files` and the files will be extractd, unzipped and stored locally within the folder specified by `data_dir`\n",
    "\n",
    "* Note that `current_tracker_df` gets updated accordingly after the download is executed"
   ]
  },
  {
   "cell_type": "code",
   "execution_count": 7,
   "metadata": {},
   "outputs": [
    {
     "output_type": "execute_result",
     "data": {
      "text/plain": "              TIMESTAMP            VERSION  DOWNLOADED       DOWNLOAD_DATE  \\\n574 2020-04-13 10:35:00  V0000000321591470       False 1900-01-01 00:00:00   \n575 2020-04-13 10:40:00  V0000000321591665       False 1900-01-01 00:00:00   \n576 2020-04-13 10:45:00  V0000000321591804        True 2020-04-13 10:59:58   \n\n                                                   URL  \n574  http://nemweb.com.au/Reports/Current/Dispatch_...  \n575  http://nemweb.com.au/Reports/Current/Dispatch_...  \n576  http://nemweb.com.au/Reports/Current/Dispatch_...  ",
      "text/html": "<div>\n<style scoped>\n    .dataframe tbody tr th:only-of-type {\n        vertical-align: middle;\n    }\n\n    .dataframe tbody tr th {\n        vertical-align: top;\n    }\n\n    .dataframe thead th {\n        text-align: right;\n    }\n</style>\n<table border=\"1\" class=\"dataframe\">\n  <thead>\n    <tr style=\"text-align: right;\">\n      <th></th>\n      <th>TIMESTAMP</th>\n      <th>VERSION</th>\n      <th>DOWNLOADED</th>\n      <th>DOWNLOAD_DATE</th>\n      <th>URL</th>\n    </tr>\n  </thead>\n  <tbody>\n    <tr>\n      <td>574</td>\n      <td>2020-04-13 10:35:00</td>\n      <td>V0000000321591470</td>\n      <td>False</td>\n      <td>1900-01-01 00:00:00</td>\n      <td>http://nemweb.com.au/Reports/Current/Dispatch_...</td>\n    </tr>\n    <tr>\n      <td>575</td>\n      <td>2020-04-13 10:40:00</td>\n      <td>V0000000321591665</td>\n      <td>False</td>\n      <td>1900-01-01 00:00:00</td>\n      <td>http://nemweb.com.au/Reports/Current/Dispatch_...</td>\n    </tr>\n    <tr>\n      <td>576</td>\n      <td>2020-04-13 10:45:00</td>\n      <td>V0000000321591804</td>\n      <td>True</td>\n      <td>2020-04-13 10:59:58</td>\n      <td>http://nemweb.com.au/Reports/Current/Dispatch_...</td>\n    </tr>\n  </tbody>\n</table>\n</div>"
     },
     "metadata": {},
     "execution_count": 7
    }
   ],
   "source": [
    "nem_get.download_files()\n",
    "nem_get.current_tracker_df.tail(3)"
   ]
  },
  {
   "cell_type": "markdown",
   "metadata": {},
   "source": [
    "## NEM Loader\n",
    "\n",
    "* The `NEM_loader` class inherits from the `NEM_extractor` class and is used to load and manipulate downloaded data into an analysis-ready format\n",
    "\n",
    "* Its functionality is still quite preliminary. Currently, for a selected resource, it can identify the list of downloaded data files using the `get_available_files()` method"
   ]
  },
  {
   "cell_type": "code",
   "execution_count": 8,
   "metadata": {},
   "outputs": [
    {
     "output_type": "stream",
     "name": "stdout",
     "text": "[0] /Reports/Current/Operational_Demand/ACTUAL_DAILY/\n[1] /Reports/Current/Dispatch_SCADA/\n[2] /Reports/Current/Next_Day_Intermittent_DS/\n[3] /Reports/Archive/Operational_Demand/Actual_Daily/\n\nSelected: /Reports/Current/Operational_Demand/ACTUAL_DAILY/\n"
    }
   ],
   "source": [
    "nem_load = NEM_loader(data_dir)\n",
    "nem_load.get_available_files()"
   ]
  },
  {
   "cell_type": "markdown",
   "metadata": {},
   "source": [
    "### Selecting files to read\n",
    "\n",
    "* By default, the `set_read_list()` chooses the most recent file, which is useful if the user just wants to peek at the file format"
   ]
  },
  {
   "cell_type": "code",
   "execution_count": 9,
   "metadata": {},
   "outputs": [
    {
     "output_type": "execute_result",
     "data": {
      "text/plain": "['PUBLIC_ACTUAL_OPERATIONAL_DEMAND_DAILY_20200412_20200413044000.CSV']"
     },
     "metadata": {},
     "execution_count": 9
    }
   ],
   "source": [
    "nem_load.set_read_list()\n",
    "nem_load.files_to_read"
   ]
  },
  {
   "cell_type": "markdown",
   "metadata": {},
   "source": [
    "### Loading files\n",
    "\n",
    "* the `process_real_list()` method will load the files as DataFrames nested in a dictionary structure, from which the user can start using `pandas` functions and methods to analyse further"
   ]
  },
  {
   "cell_type": "code",
   "execution_count": 10,
   "metadata": {},
   "outputs": [
    {
     "output_type": "execute_result",
     "data": {
      "text/plain": "   OPERATIONAL_DEMAND  ACTUAL  1 REGIONID    INTERVAL_DATETIME  \\\n0  OPERATIONAL_DEMAND  ACTUAL  1     NSW1  2020/04/12 04:30:00   \n1  OPERATIONAL_DEMAND  ACTUAL  1     NSW1  2020/04/12 05:00:00   \n2  OPERATIONAL_DEMAND  ACTUAL  1     NSW1  2020/04/12 05:30:00   \n3  OPERATIONAL_DEMAND  ACTUAL  1     NSW1  2020/04/12 06:00:00   \n4  OPERATIONAL_DEMAND  ACTUAL  1     NSW1  2020/04/12 06:30:00   \n\n   OPERATIONAL_DEMAND.1          LASTCHANGED  \n0                  5622  2020/04/12 04:30:09  \n1                  5608  2020/04/12 05:01:06  \n2                  5668  2020/04/12 05:30:45  \n3                  5754  2020/04/12 06:00:18  \n4                  5854  2020/04/12 06:31:21  ",
      "text/html": "<div>\n<style scoped>\n    .dataframe tbody tr th:only-of-type {\n        vertical-align: middle;\n    }\n\n    .dataframe tbody tr th {\n        vertical-align: top;\n    }\n\n    .dataframe thead th {\n        text-align: right;\n    }\n</style>\n<table border=\"1\" class=\"dataframe\">\n  <thead>\n    <tr style=\"text-align: right;\">\n      <th></th>\n      <th>OPERATIONAL_DEMAND</th>\n      <th>ACTUAL</th>\n      <th>1</th>\n      <th>REGIONID</th>\n      <th>INTERVAL_DATETIME</th>\n      <th>OPERATIONAL_DEMAND.1</th>\n      <th>LASTCHANGED</th>\n    </tr>\n  </thead>\n  <tbody>\n    <tr>\n      <td>0</td>\n      <td>OPERATIONAL_DEMAND</td>\n      <td>ACTUAL</td>\n      <td>1</td>\n      <td>NSW1</td>\n      <td>2020/04/12 04:30:00</td>\n      <td>5622</td>\n      <td>2020/04/12 04:30:09</td>\n    </tr>\n    <tr>\n      <td>1</td>\n      <td>OPERATIONAL_DEMAND</td>\n      <td>ACTUAL</td>\n      <td>1</td>\n      <td>NSW1</td>\n      <td>2020/04/12 05:00:00</td>\n      <td>5608</td>\n      <td>2020/04/12 05:01:06</td>\n    </tr>\n    <tr>\n      <td>2</td>\n      <td>OPERATIONAL_DEMAND</td>\n      <td>ACTUAL</td>\n      <td>1</td>\n      <td>NSW1</td>\n      <td>2020/04/12 05:30:00</td>\n      <td>5668</td>\n      <td>2020/04/12 05:30:45</td>\n    </tr>\n    <tr>\n      <td>3</td>\n      <td>OPERATIONAL_DEMAND</td>\n      <td>ACTUAL</td>\n      <td>1</td>\n      <td>NSW1</td>\n      <td>2020/04/12 06:00:00</td>\n      <td>5754</td>\n      <td>2020/04/12 06:00:18</td>\n    </tr>\n    <tr>\n      <td>4</td>\n      <td>OPERATIONAL_DEMAND</td>\n      <td>ACTUAL</td>\n      <td>1</td>\n      <td>NSW1</td>\n      <td>2020/04/12 06:30:00</td>\n      <td>5854</td>\n      <td>2020/04/12 06:31:21</td>\n    </tr>\n  </tbody>\n</table>\n</div>"
     },
     "metadata": {},
     "execution_count": 10
    }
   ],
   "source": [
    "data = nem_load.process_read_list()\n",
    "k = list(data.keys())[0]\n",
    "data[k][0].head()"
   ]
  }
 ]
}