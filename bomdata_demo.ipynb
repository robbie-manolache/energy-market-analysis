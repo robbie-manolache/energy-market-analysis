{
 "nbformat": 4,
 "nbformat_minor": 2,
 "metadata": {
  "language_info": {
   "name": "python",
   "codemirror_mode": {
    "name": "ipython",
    "version": 3
   },
   "version": "3.7.4-final"
  },
  "orig_nbformat": 2,
  "file_extension": ".py",
  "mimetype": "text/x-python",
  "name": "python",
  "npconvert_exporter": "python",
  "pygments_lexer": "ipython3",
  "version": 3,
  "kernelspec": {
   "name": "python36964bitbaseconda1682f8aab098458db6e9bf1e6e5a7b4e",
   "display_name": "Python 3.6.9 64-bit ('base': conda)"
  }
 },
 "cells": [
  {
   "cell_type": "markdown",
   "metadata": {},
   "source": [
    "# BOM Weather Data Scraper\n",
    "\n",
    "### *Extracting Weather Data from the Australian Bureau of Meteorology*"
   ]
  },
  {
   "cell_type": "code",
   "execution_count": 1,
   "metadata": {},
   "outputs": [
    {
     "output_type": "stream",
     "name": "stdout",
     "text": "Value for NEM_PATH has been set!\nValue for BOM_PATH has been set!\n"
    }
   ],
   "source": [
    "%load_ext autoreload\n",
    "%autoreload 2\n",
    "\n",
    "# Standard Python\n",
    "import os\n",
    "import pandas as pd\n",
    "import matplotlib.pyplot as plt\n",
    "\n",
    "# BOM-scraper modules\n",
    "from bomdata.scraper import BOM_scraper\n",
    "\n",
    "# Configuration\n",
    "import config\n",
    "config.use('config.json')"
   ]
  },
  {
   "cell_type": "markdown",
   "metadata": {},
   "source": [
    "## Scraping monthly historical weather data\n",
    "\n",
    "The `BOM_scraper` class provides the following functionality:\n",
    "\n",
    "* the `.set_station_id()` method allows the user to select a weather station. Currently, the station has to be found manually on the BOM website here: http://www.bom.gov.au/climate/dwo/\n",
    "* the `.scrape_station()` method will get all the relevant links for the monthly historical CSV data files of the station\n",
    "* the `.download_files()` method downloads from all these links, unless a specific list of months is specified - the files will be in the station's directory which will be created as a subfolder of `data_dir`\n",
    "* finally, the data can be loaded as a pandas DataFrame using the `.load_station_data()` method"
   ]
  },
  {
   "cell_type": "code",
   "execution_count": 2,
   "metadata": {},
   "outputs": [
    {
     "output_type": "stream",
     "name": "stdout",
     "text": "<class 'pandas.core.frame.DataFrame'>\nRangeIndex: 412 entries, 0 to 411\nData columns (total 21 columns):\nDate                                 412 non-null object\nMinimum temperature (°C)             412 non-null float64\nMaximum temperature (°C)             411 non-null float64\nRainfall (mm)                        412 non-null float64\nEvaporation (mm)                     401 non-null float64\nSunshine (hours)                     410 non-null float64\nDirection of maximum wind gust       400 non-null object\nSpeed of maximum wind gust (km/h)    400 non-null float64\nTime of maximum wind gust            403 non-null object\n9am Temperature (°C)                 412 non-null float64\n9am relative humidity (%)            412 non-null int64\n9am cloud amount (oktas)             408 non-null float64\n9am wind direction                   403 non-null object\n9am wind speed (km/h)                403 non-null object\n9am MSL pressure (hPa)               412 non-null float64\n3pm Temperature (°C)                 412 non-null float64\n3pm relative humidity (%)            412 non-null int64\n3pm cloud amount (oktas)             405 non-null float64\n3pm wind direction                   406 non-null object\n3pm wind speed (km/h)                406 non-null float64\n3pm MSL pressure (hPa)               412 non-null float64\ndtypes: float64(13), int64(2), object(6)\nmemory usage: 67.7+ KB\n"
    }
   ],
   "source": [
    "data_dir = os.getenv('BOM_PATH')\n",
    "bom_ws = BOM_scraper(data_dir)\n",
    "bom_ws.set_station_id(\"IDCJDW2124\")\n",
    "#bom_ws.scrape_station()\n",
    "#bom_ws.download_files(dates=['Apr-20'])\n",
    "bom_df = bom_ws.load_station_data()\n",
    "bom_df.info()"
   ]
  }
 ]
}