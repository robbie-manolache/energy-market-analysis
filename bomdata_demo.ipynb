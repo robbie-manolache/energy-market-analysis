{
 "cells": [
  {
   "cell_type": "markdown",
   "metadata": {},
   "source": [
    "# BOM Weather Data Scraper\n",
    "\n",
    "### *Extracting Weather Data from the Australian Bureau of Meteorology*"
   ]
  },
  {
   "cell_type": "code",
   "execution_count": 1,
   "metadata": {},
   "outputs": [
    {
     "output_type": "stream",
     "name": "stdout",
     "text": "Value for NEM_PATH has been set!\nValue for BOM_PATH has been set!\n"
    }
   ],
   "source": [
    "%load_ext autoreload\n",
    "%autoreload 2\n",
    "\n",
    "# Standard Python\n",
    "import os\n",
    "import pandas as pd\n",
    "import matplotlib.pyplot as plt\n",
    "\n",
    "# BOM-scraper modules\n",
    "from bomdata.scraper import BOM_scraper\n",
    "\n",
    "# Configuration\n",
    "import config\n",
    "config.use('config.json')"
   ]
  },
  {
   "cell_type": "markdown",
   "metadata": {},
   "source": [
    "## Selecting weather stations\n",
    "\n",
    "When instantiating a `BOM_scraper` class, a `station_list.csv` file is created and stored in the `data_dir`:\n",
    "* This file is used to set the `.station_df` attribute, a DataFrame that contains all Australian weather stations with free-of-charge historical data\n",
    "* Unless a `station_list.csv` already exists in `data_dir`, it is automatically created by scraping the BOM website with the `_scrape_station_list()` function "
   ]
  },
  {
   "cell_type": "code",
   "execution_count": 2,
   "metadata": {},
   "outputs": [
    {
     "output_type": "execute_result",
     "data": {
      "text/plain": "          name  station_id                                                url  \\\n0     Canberra  IDCJDW2801  http://www.bom.gov.au/climate/dwo/IDCJDW2801.l...   \n1  Tuggeranong  IDCJDW2802  http://www.bom.gov.au/climate/dwo/IDCJDW2802.l...   \n2       Sydney  IDCJDW2124  http://www.bom.gov.au/climate/dwo/IDCJDW2124.l...   \n3      Penrith  IDCJDW2111  http://www.bom.gov.au/climate/dwo/IDCJDW2111.l...   \n4    Newcastle  IDCJDW2098  http://www.bom.gov.au/climate/dwo/IDCJDW2098.l...   \n\n                          state  \n0  Australian Capital Territory  \n1  Australian Capital Territory  \n2               New South Wales  \n3               New South Wales  \n4               New South Wales  ",
      "text/html": "<div>\n<style scoped>\n    .dataframe tbody tr th:only-of-type {\n        vertical-align: middle;\n    }\n\n    .dataframe tbody tr th {\n        vertical-align: top;\n    }\n\n    .dataframe thead th {\n        text-align: right;\n    }\n</style>\n<table border=\"1\" class=\"dataframe\">\n  <thead>\n    <tr style=\"text-align: right;\">\n      <th></th>\n      <th>name</th>\n      <th>station_id</th>\n      <th>url</th>\n      <th>state</th>\n    </tr>\n  </thead>\n  <tbody>\n    <tr>\n      <td>0</td>\n      <td>Canberra</td>\n      <td>IDCJDW2801</td>\n      <td>http://www.bom.gov.au/climate/dwo/IDCJDW2801.l...</td>\n      <td>Australian Capital Territory</td>\n    </tr>\n    <tr>\n      <td>1</td>\n      <td>Tuggeranong</td>\n      <td>IDCJDW2802</td>\n      <td>http://www.bom.gov.au/climate/dwo/IDCJDW2802.l...</td>\n      <td>Australian Capital Territory</td>\n    </tr>\n    <tr>\n      <td>2</td>\n      <td>Sydney</td>\n      <td>IDCJDW2124</td>\n      <td>http://www.bom.gov.au/climate/dwo/IDCJDW2124.l...</td>\n      <td>New South Wales</td>\n    </tr>\n    <tr>\n      <td>3</td>\n      <td>Penrith</td>\n      <td>IDCJDW2111</td>\n      <td>http://www.bom.gov.au/climate/dwo/IDCJDW2111.l...</td>\n      <td>New South Wales</td>\n    </tr>\n    <tr>\n      <td>4</td>\n      <td>Newcastle</td>\n      <td>IDCJDW2098</td>\n      <td>http://www.bom.gov.au/climate/dwo/IDCJDW2098.l...</td>\n      <td>New South Wales</td>\n    </tr>\n  </tbody>\n</table>\n</div>"
     },
     "metadata": {},
     "execution_count": 2
    }
   ],
   "source": [
    "data_dir = os.getenv('BOM_PATH')\n",
    "bom_ws = BOM_scraper(data_dir)\n",
    "bom_ws.station_df.head()"
   ]
  },
  {
   "cell_type": "markdown",
   "metadata": {},
   "source": [
    "Now run `.select_station()` method to select a weather station to scrape data from."
   ]
  },
  {
   "cell_type": "code",
   "execution_count": 3,
   "metadata": {},
   "outputs": [
    {
     "output_type": "stream",
     "name": "stdout",
     "text": "[0] Australian Capital Territory\n[1] New South Wales\n[2] Victoria\n[3] Queensland\n[4] South Australia\n[5] Western Australia\n[6] Tasmania\n[7] Northern Territory\n[8] Australia's Antarctic Bases\n[9] Australia's Offshore Islands\n\nSelected: Queensland\n[0] Brisbane\n[1] Cairns\n[2] Townsville\n[3] Gold Coast\n\nSelected: Brisbane\n"
    }
   ],
   "source": [
    "bom_ws.select_station()"
   ]
  },
  {
   "cell_type": "markdown",
   "metadata": {},
   "source": [
    "## Scraping monthly historical weather data\n",
    "\n",
    "The `BOM_scraper` class provides the following functionality:\n",
    "\n",
    "* the `.set_station_id()` method allows the user to select a weather station. The station ID can be found using the `.station_df` attribute. \n",
    "* the `.scrape_station()` method will get all the relevant links for the monthly historical CSV data files of the station\n",
    "* the `.download_files()` method downloads from all these links, unless a specific list of months is specified - the files will be in the station's directory which will be created as a subfolder of `data_dir`\n",
    "* finally, the data can be loaded as a pandas DataFrame using the `.load_station_data()` method (Note that BOM data files have inconsistent headers...)"
   ]
  },
  {
   "cell_type": "code",
   "execution_count": 5,
   "metadata": {},
   "outputs": [
    {
     "output_type": "stream",
     "name": "stdout",
     "text": "<class 'pandas.core.frame.DataFrame'>\nRangeIndex: 426 entries, 0 to 425\nData columns (total 21 columns):\nDate                                 426 non-null object\nMinimum temperature (°C)             426 non-null float64\nMaximum temperature (°C)             424 non-null float64\nRainfall (mm)                        413 non-null float64\nEvaporation (mm)                     192 non-null float64\nSunshine (hours)                     425 non-null float64\nDirection of maximum wind gust       424 non-null object\nSpeed of maximum wind gust (km/h)    424 non-null float64\nTime of maximum wind gust            424 non-null object\n9am Temperature (°C)                 426 non-null float64\n9am relative humidity (%)            426 non-null int64\n9am cloud amount (oktas)             426 non-null int64\n9am wind direction                   426 non-null object\n9am wind speed (km/h)                426 non-null object\n9am MSL pressure (hPa)               426 non-null float64\n3pm Temperature (°C)                 426 non-null float64\n3pm relative humidity (%)            426 non-null int64\n3pm cloud amount (oktas)             426 non-null int64\n3pm wind direction                   426 non-null object\n3pm wind speed (km/h)                426 non-null object\n3pm MSL pressure (hPa)               426 non-null float64\ndtypes: float64(10), int64(4), object(7)\nmemory usage: 70.0+ KB\n"
    }
   ],
   "source": [
    "bom_ws.scrape_station()\n",
    "bom_ws.download_files()#dates=['Apr-20'])\n",
    "bom_df = bom_ws.load_station_data(skip=8)\n",
    "bom_df.info()"
   ]
  }
 ],
 "metadata": {
  "language_info": {
   "name": "python",
   "codemirror_mode": {
    "name": "ipython",
    "version": 3
   },
   "version": "3.7.4-final"
  },
  "orig_nbformat": 2,
  "file_extension": ".py",
  "mimetype": "text/x-python",
  "name": "python",
  "npconvert_exporter": "python",
  "pygments_lexer": "ipython3",
  "version": 3,
  "kernelspec": {
   "name": "python36964bitbaseconda1682f8aab098458db6e9bf1e6e5a7b4e",
   "display_name": "Python 3.6.9 64-bit ('base': conda)"
  }
 },
 "nbformat": 4,
 "nbformat_minor": 2
}